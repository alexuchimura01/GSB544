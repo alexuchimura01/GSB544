{
  "cells": [
    {
      "cell_type": "raw",
      "metadata": {
        "id": "7c0dd8d6"
      },
      "source": [
        "<h1> Introduction to Jupyter Notebooks </h1>"
      ],
      "id": "7c0dd8d6"
    },
    {
      "cell_type": "markdown",
      "source": [
        "This notebook is composed of many *chunks*, containing either python code or formatted text.  In this activity you will practice both.  Make sure to always run each code chunk once as you work past it."
      ],
      "metadata": {
        "id": "KLiOv05-tcm7"
      },
      "id": "KLiOv05-tcm7"
    },
    {
      "cell_type": "markdown",
      "source": [
        "*Get in a group of 3-4 people.  You should each fill out your own copy of this notebook.*"
      ],
      "metadata": {
        "id": "kZcVtNnqtHRU"
      },
      "id": "kZcVtNnqtHRU"
    },
    {
      "cell_type": "code",
      "metadata": {
        "id": "libraries-py"
      },
      "source": [
        "#| label: libraries-py\n",
        "#| include: false\n",
        "import matplotlib.pyplot as plt"
      ],
      "id": "libraries-py",
      "execution_count": 1,
      "outputs": []
    },
    {
      "cell_type": "markdown",
      "metadata": {
        "id": "89613630"
      },
      "source": [
        "1.  Write the names of your group members below, as a bullet point list.\n",
        "\n",
        "\n",
        "\n",
        "2.  Find something that all of you enjoy for fun. Insert a related picture or meme below.\n",
        "\n",
        "3.  Everyone decide your comfort level on a scale of 1-10 in python, and your favorite colors from [this](https://matplotlib.org/stable/gallery/color/named_colors.html) list.\n",
        "\n",
        "Edit the code below so that it has your names and corresponding comfort levels."
      ],
      "id": "89613630"
    },
    {
      "cell_type": "code",
      "metadata": {
        "id": "group_info-py"
      },
      "source": [
        "#| label: group_info-py\n",
        "group_data = {\n",
        "  'names': [\"Alex\", \"Pete\", \"Hunter\", \"Fran\"],\n",
        "  'colors': [\"lawngreen\", \"goldenrod\", \"darksalmon\", \"black\"],\n",
        "  'comfort': [1, 8, 2, 4]\n",
        "  }"
      ],
      "id": "group_info-py",
      "execution_count": 2,
      "outputs": []
    },
    {
      "cell_type": "markdown",
      "metadata": {
        "id": "f8ac1475"
      },
      "source": [
        "4.  Click \"Run\" on the code chunk below and see the plot that is produced.\n",
        "\n",
        "(Do not edit the code below!)"
      ],
      "id": "f8ac1475"
    },
    {
      "cell_type": "code",
      "metadata": {
        "id": "plot-py",
        "colab": {
          "base_uri": "https://localhost:8080/",
          "height": 430
        },
        "outputId": "4303f24e-d5d2-41df-8dd7-d4b74541de8c"
      },
      "source": [
        "#| label: plot-py\n",
        "#| fig-cap: Our comfort levels with python\n",
        "\n",
        "plt.bar(x = group_data['names'], height = group_data['comfort'], color = group_data['colors'])\n",
        "plt.ylabel(\"Comfort with python\")\n",
        "plt.show()"
      ],
      "id": "plot-py",
      "execution_count": 3,
      "outputs": [
        {
          "output_type": "display_data",
          "data": {
            "text/plain": [
              "<Figure size 640x480 with 1 Axes>"
            ],
            "image/png": "[encoded data removed]"
          },
          "metadata": {}
        }
      ]
    }
  ],
  "metadata": {
    "kernelspec": {
      "display_name": "Python 3",
      "language": "python",
      "name": "python3"
    },
    "colab": {
      "provenance": []
    }
  },
  "nbformat": 4,
  "nbformat_minor": 5
}